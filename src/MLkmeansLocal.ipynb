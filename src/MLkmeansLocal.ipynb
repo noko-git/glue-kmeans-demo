{
 "cells": [
  {
   "cell_type": "code",
   "execution_count": null,
   "id": "9df77d8d",
   "metadata": {},
   "outputs": [],
   "source": [
    "# # 事前準備（csvファイルの結合）\n",
    "# import pandas as pd\n",
    "# import glob\n",
    "\n",
    "# # パスで指定したファイルの一覧をリスト形式で取得. \n",
    "# csv_files = glob.glob('../inputs/*')\n",
    "\n",
    "# #csvファイルの中身を追加していくリストを用意\n",
    "# data_list = []\n",
    "\n",
    "# #読み込むファイルのリストを走査\n",
    "# for file in csv_files:\n",
    "#     data_list.append(pd.read_csv(file))\n",
    "\n",
    "# #リストを全て行方向に結合\n",
    "# #axis=0:行方向に結合, sort\n",
    "# df_tmp = pd.concat(data_list, axis=0, sort=True)\n",
    "# print(len(df_tmp))\n",
    "# df_tmp.to_csv(\"../inputs/green.csv\",index=False)"
   ]
  },
  {
   "cell_type": "code",
   "execution_count": null,
   "id": "responsible-industry",
   "metadata": {},
   "outputs": [],
   "source": [
    "import pandas as pd\n",
    "from sklearn.cluster import KMeans\n",
    "import time"
   ]
  },
  {
   "cell_type": "code",
   "execution_count": null,
   "id": "29cc1c0d",
   "metadata": {},
   "outputs": [],
   "source": [
    "start_time = time.time()"
   ]
  },
  {
   "cell_type": "code",
   "execution_count": null,
   "id": "known-institute",
   "metadata": {},
   "outputs": [],
   "source": [
    "# INPUT / OUTPUT DATA\n",
    "# source=\"../inputs/green.csv\"\n",
    "source=\"../inputs/run-1505565929137-part-r-00000\"\n",
    "destination = \"../outputs/ClusterResults3.csv\""
   ]
  },
  {
   "cell_type": "code",
   "execution_count": null,
   "id": "0db4161c",
   "metadata": {},
   "outputs": [],
   "source": [
    "DataFrame1 =pd.read_csv(source)"
   ]
  },
  {
   "cell_type": "code",
   "execution_count": null,
   "id": "cadbb8ba",
   "metadata": {},
   "outputs": [],
   "source": [
    "print(\"len(DataFrame1): \" + str(len(DataFrame1)))"
   ]
  },
  {
   "cell_type": "code",
   "execution_count": null,
   "id": "consistent-violin",
   "metadata": {},
   "outputs": [],
   "source": [
    "#Load data and select fields\n",
    "DataFrame0 =pd.read_csv(source)\n",
    "# DataFrame0 = DataFrame0[[\"Trip_distance\",\"Fare_amount\",\"Pickup_longitude\",\"Pickup_latitude\" ]]\n",
    "DataFrame0 = DataFrame0[[\"trip_distance\",\"fare_amount\",\"pickup_longitude\",\"pickup_latitude\" ]]"
   ]
  },
  {
   "cell_type": "code",
   "execution_count": null,
   "id": "impossible-metropolitan",
   "metadata": {},
   "outputs": [],
   "source": [
    "#Filter some unwanted values\n",
    "# DataFrameFiltered = DataFrame0.query('Pickup_latitude > 40.472278 and Pickup_latitude < 41.160886 and Pickup_longitude > -74.300074 and Pickup_longitude < -71.844077')\n",
    "DataFrameFiltered = DataFrame0.query('pickup_latitude > 40.472278 and pickup_latitude < 41.160886 and pickup_longitude > -74.300074 and pickup_longitude < -71.844077')"
   ]
  },
  {
   "cell_type": "code",
   "execution_count": null,
   "id": "f5896ab1",
   "metadata": {},
   "outputs": [],
   "source": [
    "print(DataFrameFiltered)"
   ]
  },
  {
   "cell_type": "code",
   "execution_count": null,
   "id": "542dd10f",
   "metadata": {},
   "outputs": [],
   "source": [
    "# features = [\"pickup_longitude\",\"pickup_latitude\"] \n",
    "# DataFrameFiltered[\"features\"]=[[DataFrameFiltered[features[0]][i],DataFrameFiltered[features[1]][i]] for i in range(len(DataFrameFiltered))] #新しい列\"features\"を定義し、そこにfeaturesの要素をリスト化したものを格納"
   ]
  },
  {
   "cell_type": "code",
   "execution_count": null,
   "id": "geographic-testament",
   "metadata": {},
   "outputs": [],
   "source": [
    "# #Select features and convert to SparkML required format\n",
    "# features = [\"Pickup_longitude\",\"Pickup_latitude\"]\n",
    "# assembler = VectorAssembler(inputCols=features,outputCol='features')\n",
    "# assembled_df = assembler.transform(DataFrameFiltered)"
   ]
  },
  {
   "cell_type": "code",
   "execution_count": null,
   "id": "comprehensive-antarctica",
   "metadata": {},
   "outputs": [],
   "source": [
    "#Fit and Run Kmeans\n",
    "start_time_kmeans = time.time()\n",
    "\n",
    "kmeans = KMeans(n_clusters=100, random_state=1)\n",
    "model = kmeans.fit(DataFrameFiltered)\n",
    "\n",
    "end_time_kmeans = time.time()\n",
    "print(\"exec time kmeans: \" + str(end_time_kmeans - start_time_kmeans))"
   ]
  },
  {
   "cell_type": "code",
   "execution_count": null,
   "id": "6d7693b5",
   "metadata": {},
   "outputs": [],
   "source": [
    "print(\"len(model.labels_): \" + str(len(model.labels_)))"
   ]
  },
  {
   "cell_type": "code",
   "execution_count": null,
   "id": "2d99cbab",
   "metadata": {},
   "outputs": [],
   "source": [
    "DataFrameFiltered['prediction']=model.labels_"
   ]
  },
  {
   "cell_type": "code",
   "execution_count": null,
   "id": "outdoor-kidney",
   "metadata": {},
   "outputs": [],
   "source": [
    "#Save data to destination\n",
    "DataFrameFiltered.to_csv(destination)"
   ]
  },
  {
   "cell_type": "code",
   "execution_count": null,
   "id": "07922dc2",
   "metadata": {},
   "outputs": [],
   "source": [
    "end_time = time.time()\n",
    "print(\"exec time total: \" + str(end_time - start_time))"
   ]
  },
  {
   "cell_type": "code",
   "execution_count": null,
   "id": "2c66322e",
   "metadata": {},
   "outputs": [],
   "source": [
    "# check result\n",
    "print(DataFrameFiltered[0:10])\n",
    "print(\"len(DataFrameFiltered): \" + str(len(DataFrameFiltered)))\n",
    "print(DataFrameFiltered.groupby('prediction').size().sort_values(ascending=False)[0:10])"
   ]
  }
 ],
 "metadata": {
  "kernelspec": {
   "display_name": "Python 3 (ipykernel)",
   "language": "python",
   "name": "python3"
  },
  "language_info": {
   "codemirror_mode": {
    "name": "ipython",
    "version": 3
   },
   "file_extension": ".py",
   "mimetype": "text/x-python",
   "name": "python",
   "nbconvert_exporter": "python",
   "pygments_lexer": "ipython3",
   "version": "3.7.3"
  }
 },
 "nbformat": 4,
 "nbformat_minor": 5
}
